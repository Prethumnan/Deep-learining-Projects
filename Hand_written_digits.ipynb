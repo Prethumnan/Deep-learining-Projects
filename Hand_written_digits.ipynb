{
  "nbformat": 4,
  "nbformat_minor": 0,
  "metadata": {
    "colab": {
      "name": "Hand written digits",
      "provenance": [],
      "collapsed_sections": []
    },
    "kernelspec": {
      "name": "python3",
      "display_name": "Python 3"
    },
    "language_info": {
      "name": "python"
    }
  },
  "cells": [
    {
      "cell_type": "code",
      "metadata": {
        "id": "9wMBOvQmw4n5"
      },
      "source": [
        "#Importing required libraries\n",
        "\n",
        "import tensorflow\n",
        "from tensorflow.keras.layers import Dense,Flatten,Conv2D,MaxPooling2D,Activation\n",
        "import matplotlib.pyplot as plt\n",
        "%matplotlib inline\n",
        "from tensorflow.keras.models import Sequential\n",
        "import numpy as np"
      ],
      "execution_count": 1,
      "outputs": []
    },
    {
      "cell_type": "code",
      "metadata": {
        "colab": {
          "base_uri": "https://localhost:8080/"
        },
        "id": "bceZpKBlw6no",
        "outputId": "f18e95a7-2a2e-414a-e406-6682454fb69a"
      },
      "source": [
        "#Loading data\n",
        "\n",
        "(x_train,y_train),(x_test,y_test)=tensorflow.keras.datasets.mnist.load_data()\n",
        "\n",
        "#scaling data\n",
        "\n",
        "x_train=x_train/255\n",
        "x_test=x_test/255\n",
        "\n",
        "#Reshaping the dimension\n",
        "\n",
        "xtrain=x_train.reshape(60000,28,28,1)\n",
        "xtest=x_test.reshape(10000,28,28,1)\n"
      ],
      "execution_count": 2,
      "outputs": [
        {
          "output_type": "stream",
          "name": "stdout",
          "text": [
            "Downloading data from https://storage.googleapis.com/tensorflow/tf-keras-datasets/mnist.npz\n",
            "11493376/11490434 [==============================] - 0s 0us/step\n",
            "11501568/11490434 [==============================] - 0s 0us/step\n"
          ]
        }
      ]
    },
    {
      "cell_type": "code",
      "metadata": {
        "id": "DlheNsNzxH3F"
      },
      "source": [
        "#First convolutional layer\n",
        "\n",
        "model=Sequential()\n",
        "model.add(Conv2D(64,(3,3),input_shape=(xtrain[0].shape)))\n",
        "model.add(Activation(\"relu\"))\n",
        "model.add(MaxPooling2D(pool_size=(2,2)))\n",
        "\n",
        "#second convolutional layer\n",
        "\n",
        "model.add(Conv2D(64,(3,3)))\n",
        "model.add(Activation(\"relu\"))\n",
        "model.add(MaxPooling2D(pool_size=(2,2)))\n",
        "\n",
        "#Third convolutional layer\n",
        "          \n",
        "model.add(Conv2D(64,(3,3)))\n",
        "model.add(Activation(\"relu\"))\n",
        "model.add(MaxPooling2D(pool_size=(2,2)))\n",
        "          \n",
        "model.add(Flatten())\n",
        "          \n",
        "#First dense layer\n",
        "          \n",
        "model.add(Dense(64))\n",
        "model.add(Activation(\"relu\"))\n",
        "\n",
        "#Second dense layer\n",
        "          \n",
        "model.add(Dense(32))\n",
        "model.add(Activation(\"relu\"))\n",
        "          \n",
        "#Output layer\n",
        "\n",
        "model.add(Dense(10))\n",
        "model.add(Activation(\"softmax\"))"
      ],
      "execution_count": 3,
      "outputs": []
    },
    {
      "cell_type": "code",
      "metadata": {
        "id": "YnhsM6mBw9Wr"
      },
      "source": [
        "#Compling the model\n",
        "\n",
        "model.compile(loss=\"sparse_categorical_crossentropy\",optimizer=\"adam\",metrics=[\"accuracy\"])"
      ],
      "execution_count": 4,
      "outputs": []
    },
    {
      "cell_type": "code",
      "metadata": {
        "colab": {
          "base_uri": "https://localhost:8080/"
        },
        "id": "0vinDAIyxODL",
        "outputId": "52a1707f-8e27-4416-eebe-9fa6b59e41f7"
      },
      "source": [
        "#Training the model\n",
        "\n",
        "model.fit(xtrain,y_train,epochs=15)"
      ],
      "execution_count": 5,
      "outputs": [
        {
          "output_type": "stream",
          "name": "stdout",
          "text": [
            "Epoch 1/15\n",
            "1875/1875 [==============================] - 86s 45ms/step - loss: 0.2285 - accuracy: 0.9274\n",
            "Epoch 2/15\n",
            "1875/1875 [==============================] - 86s 46ms/step - loss: 0.0746 - accuracy: 0.9774\n",
            "Epoch 3/15\n",
            "1875/1875 [==============================] - 95s 50ms/step - loss: 0.0544 - accuracy: 0.9833\n",
            "Epoch 4/15\n",
            "1875/1875 [==============================] - 84s 45ms/step - loss: 0.0427 - accuracy: 0.9869\n",
            "Epoch 5/15\n",
            "1875/1875 [==============================] - 83s 44ms/step - loss: 0.0350 - accuracy: 0.9887\n",
            "Epoch 6/15\n",
            "1875/1875 [==============================] - 82s 44ms/step - loss: 0.0276 - accuracy: 0.9913\n",
            "Epoch 7/15\n",
            "1875/1875 [==============================] - 83s 44ms/step - loss: 0.0232 - accuracy: 0.9927\n",
            "Epoch 8/15\n",
            "1875/1875 [==============================] - 86s 46ms/step - loss: 0.0213 - accuracy: 0.9934\n",
            "Epoch 9/15\n",
            "1875/1875 [==============================] - 89s 47ms/step - loss: 0.0182 - accuracy: 0.9941\n",
            "Epoch 10/15\n",
            "1875/1875 [==============================] - 89s 48ms/step - loss: 0.0155 - accuracy: 0.9948\n",
            "Epoch 11/15\n",
            "1875/1875 [==============================] - 89s 48ms/step - loss: 0.0148 - accuracy: 0.9948\n",
            "Epoch 12/15\n",
            "1875/1875 [==============================] - 90s 48ms/step - loss: 0.0115 - accuracy: 0.9964\n",
            "Epoch 13/15\n",
            "1875/1875 [==============================] - 89s 47ms/step - loss: 0.0123 - accuracy: 0.9961\n",
            "Epoch 14/15\n",
            "1875/1875 [==============================] - 85s 45ms/step - loss: 0.0117 - accuracy: 0.9965\n",
            "Epoch 15/15\n",
            "1875/1875 [==============================] - 85s 45ms/step - loss: 0.0099 - accuracy: 0.9968\n"
          ]
        },
        {
          "output_type": "execute_result",
          "data": {
            "text/plain": [
              "<keras.callbacks.History at 0x7f59f6fa53d0>"
            ]
          },
          "metadata": {},
          "execution_count": 5
        }
      ]
    },
    {
      "cell_type": "code",
      "metadata": {
        "colab": {
          "base_uri": "https://localhost:8080/"
        },
        "id": "uokPLzE91yB2",
        "outputId": "7c3edf8a-c748-40da-bd6f-2c27e46e8f2b"
      },
      "source": [
        "model.evaluate(xtest,y_test)"
      ],
      "execution_count": 6,
      "outputs": [
        {
          "output_type": "stream",
          "name": "stdout",
          "text": [
            "313/313 [==============================] - 4s 13ms/step - loss: 0.0647 - accuracy: 0.9857\n"
          ]
        },
        {
          "output_type": "execute_result",
          "data": {
            "text/plain": [
              "[0.06473201513290405, 0.9857000112533569]"
            ]
          },
          "metadata": {},
          "execution_count": 6
        }
      ]
    },
    {
      "cell_type": "code",
      "metadata": {
        "id": "T0zlo7jL17Fi"
      },
      "source": [
        "import cv2"
      ],
      "execution_count": 7,
      "outputs": []
    },
    {
      "cell_type": "code",
      "metadata": {
        "id": "cQffP_5R1-K6"
      },
      "source": [
        "image=cv2.imread(\"three.png\")"
      ],
      "execution_count": 22,
      "outputs": []
    },
    {
      "cell_type": "code",
      "metadata": {
        "colab": {
          "base_uri": "https://localhost:8080/",
          "height": 256
        },
        "id": "cV6LEH-d2SZH",
        "outputId": "f150a1fd-a3ae-4dee-a9e1-c08a3d17c680"
      },
      "source": [
        "plt.imshow(image)"
      ],
      "execution_count": 23,
      "outputs": [
        {
          "output_type": "execute_result",
          "data": {
            "text/plain": [
              "<matplotlib.image.AxesImage at 0x7f59f36c2550>"
            ]
          },
          "metadata": {},
          "execution_count": 23
        },
        {
          "output_type": "display_data",
          "data": {
            "text/plain": [
              "<Figure size 432x288 with 1 Axes>"
            ],
            "image/png": "[encoded data removed]"
          },
          "metadata": {
            "needs_background": "light"
          }
        }
      ]
    },
    {
      "cell_type": "code",
      "metadata": {
        "colab": {
          "base_uri": "https://localhost:8080/"
        },
        "id": "3oH7xIuw2XiS",
        "outputId": "cc3230b3-55b9-41ed-df21-a0b9bc4f0eb0"
      },
      "source": [
        "image.shape"
      ],
      "execution_count": 24,
      "outputs": [
        {
          "output_type": "execute_result",
          "data": {
            "text/plain": [
              "(540, 960, 3)"
            ]
          },
          "metadata": {},
          "execution_count": 24
        }
      ]
    },
    {
      "cell_type": "code",
      "metadata": {
        "id": "IPD_VkMY4NJi"
      },
      "source": [
        "def smart(im):\n",
        "  image=cv2.imread(im)\n",
        "  img=cv2.cvtColor(image,cv2.COLOR_BGR2GRAY)\n",
        "  new=cv2.resize(img,(28,28),interpolation=cv2.INTER_AREA)\n",
        "  final=tensorflow.keras.utils.normalize(new)\n",
        "  result=final.reshape(-1,28,28,1)\n",
        "  m=model.predict(result)\n",
        "  return np.argmax(m)\n"
      ],
      "execution_count": 32,
      "outputs": []
    },
    {
      "cell_type": "code",
      "metadata": {
        "colab": {
          "base_uri": "https://localhost:8080/"
        },
        "id": "hsad1Hrc455X",
        "outputId": "f196a98d-aa89-4efa-edea-7bf1367d01c9"
      },
      "source": [
        "smart(\"three.png\")"
      ],
      "execution_count": 35,
      "outputs": [
        {
          "output_type": "execute_result",
          "data": {
            "text/plain": [
              "3"
            ]
          },
          "metadata": {},
          "execution_count": 35
        }
      ]
    },
    {
      "cell_type": "code",
      "source": [
        "model.summary()"
      ],
      "metadata": {
        "colab": {
          "base_uri": "https://localhost:8080/"
        },
        "id": "Mp5wgbOUA-7G",
        "outputId": "db30b107-24d7-4b09-dc7a-529e2a10bd24"
      },
      "execution_count": 36,
      "outputs": [
        {
          "output_type": "stream",
          "name": "stdout",
          "text": [
            "Model: \"sequential\"\n",
            "_________________________________________________________________\n",
            " Layer (type)                Output Shape              Param #   \n",
            "=================================================================\n",
            " conv2d (Conv2D)             (None, 26, 26, 64)        640       \n",
            "                                                                 \n",
            " activation (Activation)     (None, 26, 26, 64)        0         \n",
            "                                                                 \n",
            " max_pooling2d (MaxPooling2D  (None, 13, 13, 64)       0         \n",
            " )                                                               \n",
            "                                                                 \n",
            " conv2d_1 (Conv2D)           (None, 11, 11, 64)        36928     \n",
            "                                                                 \n",
            " activation_1 (Activation)   (None, 11, 11, 64)        0         \n",
            "                                                                 \n",
            " max_pooling2d_1 (MaxPooling  (None, 5, 5, 64)         0         \n",
            " 2D)                                                             \n",
            "                                                                 \n",
            " conv2d_2 (Conv2D)           (None, 3, 3, 64)          36928     \n",
            "                                                                 \n",
            " activation_2 (Activation)   (None, 3, 3, 64)          0         \n",
            "                                                                 \n",
            " max_pooling2d_2 (MaxPooling  (None, 1, 1, 64)         0         \n",
            " 2D)                                                             \n",
            "                                                                 \n",
            " flatten (Flatten)           (None, 64)                0         \n",
            "                                                                 \n",
            " dense (Dense)               (None, 64)                4160      \n",
            "                                                                 \n",
            " activation_3 (Activation)   (None, 64)                0         \n",
            "                                                                 \n",
            " dense_1 (Dense)             (None, 32)                2080      \n",
            "                                                                 \n",
            " activation_4 (Activation)   (None, 32)                0         \n",
            "                                                                 \n",
            " dense_2 (Dense)             (None, 10)                330       \n",
            "                                                                 \n",
            " activation_5 (Activation)   (None, 10)                0         \n",
            "                                                                 \n",
            "=================================================================\n",
            "Total params: 81,066\n",
            "Trainable params: 81,066\n",
            "Non-trainable params: 0\n",
            "_________________________________________________________________\n"
          ]
        }
      ]
    }
  ]
}